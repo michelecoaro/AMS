{
 "cells": [
  {
   "cell_type": "code",
   "execution_count": 2,
   "metadata": {},
   "outputs": [
    {
     "name": "stdout",
     "output_type": "stream",
     "text": [
      "    age   ed  employ  address  income  debtinc   creddebt   othdebt  default  \\\n",
      "0  41.0  3.0    17.0     12.0   176.0      9.3  11.359392  5.008608      1.0   \n",
      "1  27.0  1.0    10.0      6.0    31.0     17.3   1.362202  4.000798      0.0   \n",
      "2  40.0  1.0    15.0     14.0    55.0      5.5   0.856075  2.168925      0.0   \n",
      "3  41.0  1.0    15.0     14.0   120.0      2.9   2.658720  0.821280      0.0   \n",
      "4  24.0  2.0     2.0      0.0    28.0     17.3   1.787436  3.056564      1.0   \n",
      "\n",
      "   preddef1  preddef2  preddef3  \n",
      "0  0.808394  0.788640  0.213043  \n",
      "1  0.198297  0.128445  0.436903  \n",
      "2  0.010036  0.002987  0.141023  \n",
      "3  0.022138  0.010273  0.104422  \n",
      "4  0.781588  0.737885  0.436903  \n"
     ]
    }
   ],
   "source": [
    "import pandas as pd\n",
    "import pyreadstat\n",
    "\n",
    "# Path to your .sav file\n",
    "file_path = \"C:/Users/Fabio/Desktop/bankloan.sav\"\n",
    "\n",
    "# Read the .sav file\n",
    "df, meta = pyreadstat.read_sav(file_path)\n",
    "\n",
    "# Display the first few rows of the DataFrame\n",
    "print(df.head())\n"
   ]
  },
  {
   "cell_type": "code",
   "execution_count": null,
   "metadata": {},
   "outputs": [],
   "source": []
  },
  {
   "cell_type": "code",
   "execution_count": null,
   "metadata": {},
   "outputs": [],
   "source": []
  },
  {
   "cell_type": "code",
   "execution_count": null,
   "metadata": {},
   "outputs": [],
   "source": []
  },
  {
   "cell_type": "code",
   "execution_count": null,
   "metadata": {},
   "outputs": [],
   "source": []
  },
  {
   "cell_type": "code",
   "execution_count": null,
   "metadata": {},
   "outputs": [],
   "source": []
  }
 ],
 "metadata": {
  "kernelspec": {
   "display_name": "Python 3",
   "language": "python",
   "name": "python3"
  },
  "language_info": {
   "codemirror_mode": {
    "name": "ipython",
    "version": 3
   },
   "file_extension": ".py",
   "mimetype": "text/x-python",
   "name": "python",
   "nbconvert_exporter": "python",
   "pygments_lexer": "ipython3",
   "version": "3.11.3"
  }
 },
 "nbformat": 4,
 "nbformat_minor": 2
}
