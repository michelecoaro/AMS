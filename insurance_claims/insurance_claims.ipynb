{
 "cells": [
  {
   "cell_type": "code",
   "execution_count": 1,
   "metadata": {},
   "outputs": [
    {
     "name": "stdout",
     "output_type": "stream",
     "text": [
      "     claimid incident_date  claim_type  uninhabitable  claim_amount  \\\n",
      "0  351069569    2008-01-18         3.0            0.0       192.287   \n",
      "1  806984053    2008-07-18         3.0            0.0       355.896   \n",
      "2  654100160    2008-03-01         5.0            0.0         3.530   \n",
      "3  653220231    2008-10-28         1.0            0.0        33.452   \n",
      "4  226637568    2008-05-31         5.0            0.0         4.029   \n",
      "\n",
      "   fraudulent    policyid policy_date  coverage  deductible  ...  gender  \\\n",
      "0         0.0  SSB-514465  1987-01-26     436.0      2000.0  ...     1.0   \n",
      "1         0.0  XWZ-702801  1983-05-14     925.0      1000.0  ...     0.0   \n",
      "2         0.0  FMP-391297  1988-01-15      79.0      1000.0  ...     1.0   \n",
      "3         0.0  WEV-471919  2000-02-22     607.0      1000.0  ...     0.0   \n",
      "4         0.0  ESY-256692  2001-08-09     119.0      3000.0  ...     1.0   \n",
      "\n",
      "          dob edcat  job_start_date retire  income  marital  reside  \\\n",
      "0  1943-03-12   2.0      1981-04-16    0.0   193.0      0.0     1.0   \n",
      "1  1933-05-10   2.0      1982-11-04    0.0   203.0      0.0     1.0   \n",
      "2  1939-04-02   2.0      2004-08-20    0.0    49.0      0.0     1.0   \n",
      "3  1972-04-12   3.0      1999-07-29    0.0   118.0      1.0     3.0   \n",
      "4  1968-08-04   1.0      2004-07-04    0.0    18.0      0.0     1.0   \n",
      "\n",
      "   occupancy_date primary_residence  \n",
      "0      1978-01-06               1.0  \n",
      "1      1971-02-04               1.0  \n",
      "2      1977-03-30               1.0  \n",
      "3      1993-05-23               1.0  \n",
      "4      2000-09-04               1.0  \n",
      "\n",
      "[5 rows x 21 columns]\n"
     ]
    }
   ],
   "source": [
    "import pandas as pd\n",
    "import pyreadstat\n",
    "\n",
    "# Path to your .sav file\n",
    "file_path = \"C:/Users/Fabio/Desktop/insurance_claims.sav\"\n",
    "\n",
    "# Read the .sav file\n",
    "df, meta = pyreadstat.read_sav(file_path)\n",
    "\n",
    "# Display the first few rows of the DataFrame\n",
    "print(df.head())"
   ]
  },
  {
   "cell_type": "code",
   "execution_count": null,
   "metadata": {},
   "outputs": [],
   "source": []
  },
  {
   "cell_type": "code",
   "execution_count": null,
   "metadata": {},
   "outputs": [],
   "source": []
  },
  {
   "cell_type": "code",
   "execution_count": null,
   "metadata": {},
   "outputs": [],
   "source": []
  },
  {
   "cell_type": "code",
   "execution_count": null,
   "metadata": {},
   "outputs": [],
   "source": []
  }
 ],
 "metadata": {
  "kernelspec": {
   "display_name": "Python 3",
   "language": "python",
   "name": "python3"
  },
  "language_info": {
   "codemirror_mode": {
    "name": "ipython",
    "version": 3
   },
   "file_extension": ".py",
   "mimetype": "text/x-python",
   "name": "python",
   "nbconvert_exporter": "python",
   "pygments_lexer": "ipython3",
   "version": "3.11.3"
  }
 },
 "nbformat": 4,
 "nbformat_minor": 2
}
